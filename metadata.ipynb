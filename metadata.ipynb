{
  "nbformat": 4,
  "nbformat_minor": 0,
  "metadata": {
    "colab": {
      "provenance": []
    },
    "kernelspec": {
      "name": "python3",
      "display_name": "Python 3"
    },
    "language_info": {
      "name": "python"
    }
  },
  "cells": [
    {
      "cell_type": "code",
      "source": [
        "!pip install spacy pytesseract pdf2image python-docx PyMuPDF tika --quiet\n"
      ],
      "metadata": {
        "id": "W74HjlSNqX5B",
        "colab": {
          "base_uri": "https://localhost:8080/"
        },
        "outputId": "712a6772-8318-439b-fe53-97ea2f08a635"
      },
      "execution_count": 1,
      "outputs": [
        {
          "output_type": "stream",
          "name": "stdout",
          "text": [
            "\u001b[2K   \u001b[90m━━━━━━━━━━━━━━━━━━━━━━━━━━━━━━━━━━━━━━━━\u001b[0m \u001b[32m253.0/253.0 kB\u001b[0m \u001b[31m5.6 MB/s\u001b[0m eta \u001b[36m0:00:00\u001b[0m\n",
            "\u001b[2K   \u001b[90m━━━━━━━━━━━━━━━━━━━━━━━━━━━━━━━━━━━━━━━━\u001b[0m \u001b[32m24.1/24.1 MB\u001b[0m \u001b[31m23.8 MB/s\u001b[0m eta \u001b[36m0:00:00\u001b[0m\n",
            "\u001b[?25h"
          ]
        }
      ]
    },
    {
      "cell_type": "code",
      "source": [
        "!python -m spacy download en_core_web_sm"
      ],
      "metadata": {
        "colab": {
          "base_uri": "https://localhost:8080/"
        },
        "id": "VaXWvc2-xApq",
        "outputId": "cdc2a04e-1b1f-472e-f534-0896ed3e9108"
      },
      "execution_count": 2,
      "outputs": [
        {
          "output_type": "stream",
          "name": "stdout",
          "text": [
            "Collecting en-core-web-sm==3.8.0\n",
            "  Downloading https://github.com/explosion/spacy-models/releases/download/en_core_web_sm-3.8.0/en_core_web_sm-3.8.0-py3-none-any.whl (12.8 MB)\n",
            "\u001b[2K     \u001b[90m━━━━━━━━━━━━━━━━━━━━━━━━━━━━━━━━━━━━━━━━\u001b[0m \u001b[32m12.8/12.8 MB\u001b[0m \u001b[31m69.8 MB/s\u001b[0m eta \u001b[36m0:00:00\u001b[0m\n",
            "\u001b[?25h\u001b[38;5;2m✔ Download and installation successful\u001b[0m\n",
            "You can now load the package via spacy.load('en_core_web_sm')\n",
            "\u001b[38;5;3m⚠ Restart to reload dependencies\u001b[0m\n",
            "If you are in a Jupyter or Colab notebook, you may need to restart Python in\n",
            "order to load all the package's dependencies. You can do this by selecting the\n",
            "'Restart kernel' or 'Restart runtime' option.\n"
          ]
        }
      ]
    },
    {
      "cell_type": "markdown",
      "source": [
        "# Required Libraries"
      ],
      "metadata": {
        "id": "cOK0bOdFM2o3"
      }
    },
    {
      "cell_type": "code",
      "execution_count": 1,
      "metadata": {
        "id": "gn5KcVO9dYrd"
      },
      "outputs": [],
      "source": [
        "import fitz\n",
        "import pytesseract\n",
        "from pdf2image import convert_from_path\n",
        "from docx import Document\n",
        "from collections import Counter\n",
        "import spacy\n",
        "import json\n",
        "import requests\n",
        "from google.colab import files\n",
        "import os\n",
        "import time\n"
      ]
    },
    {
      "cell_type": "markdown",
      "source": [
        "# Extracts text from uploaded documents (PDF, DOCX, or TXT)"
      ],
      "metadata": {
        "id": "bHaijVOxQVwO"
      }
    },
    {
      "cell_type": "code",
      "source": [
        "def extract_text(file_path):\n",
        "    ext = file_path.split('.')[-1].lower()\n",
        "    if ext == 'pdf':\n",
        "        doc = fitz.open(file_path)\n",
        "        text = ''.join([page.get_text() for page in doc])\n",
        "        if not text.strip():\n",
        "            images = convert_from_path(file_path)\n",
        "            text = \"\\n\".join([pytesseract.image_to_string(img) for img in images])\n",
        "        return text\n",
        "    elif ext == 'docx':\n",
        "        return \"\\n\".join([p.text for p in Document(file_path).paragraphs])\n",
        "    elif ext == 'txt':\n",
        "        return open(file_path, 'r', encoding='utf-8').read()\n",
        "    else:\n",
        "        return \"\""
      ],
      "metadata": {
        "id": "ZdBnkfZoxR33"
      },
      "execution_count": 2,
      "outputs": []
    },
    {
      "cell_type": "markdown",
      "source": [
        "# Extract Metadata using spaCy (Keywords, Entities, Dates)"
      ],
      "metadata": {
        "id": "USQJK4kdQlJN"
      }
    },
    {
      "cell_type": "code",
      "source": [
        "def extract_spacy_metadata(text):\n",
        "    doc = nlp(text)\n",
        "\n",
        "    # Keywords\n",
        "    words = [token.lemma_.lower() for token in doc if token.is_alpha and not token.is_stop]\n",
        "    keywords = [word for word, _ in Counter(words).most_common(7)]\n",
        "\n",
        "    # Named Entities\n",
        "    people = list(set([ent.text for ent in doc.ents if ent.label_ == \"PERSON\"]))\n",
        "    orgs = list(set([ent.text for ent in doc.ents if ent.label_ == \"ORG\"]))\n",
        "    dates = list(set([ent.text for ent in doc.ents if ent.label_ == \"DATE\"]))\n",
        "\n",
        "    return {\n",
        "        \"keywords\": keywords,\n",
        "        \"people\": people,\n",
        "        \"organizations\": orgs,\n",
        "        \"dates\": dates\n",
        "    }\n"
      ],
      "metadata": {
        "id": "RV8PNRs1xVGZ"
      },
      "execution_count": 3,
      "outputs": []
    },
    {
      "cell_type": "markdown",
      "source": [
        "#LLM-Based Summarization (Groq LLaMA 3)"
      ],
      "metadata": {
        "id": "d_itpqdLQ44x"
      }
    },
    {
      "cell_type": "code",
      "source": [
        "GROQ_API_KEY = \"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\""
      ],
      "metadata": {
        "id": "FIMmv9EtqT8U"
      },
      "execution_count": 6,
      "outputs": []
    },
    {
      "cell_type": "code",
      "source": [
        "def generate_summary_with_groq(text):\n",
        "    prompt = f\"\"\"\n",
        "You are a summarization assistant.\n",
        "From the document below, extract only the summary.\n",
        "The summary should be concise and no longer than 4 lines.\n",
        "\n",
        "Document:\n",
        "{text[:3000]}\n",
        "\"\"\"\n",
        "\n",
        "    headers = {\n",
        "        \"Authorization\": f\"Bearer {GROQ_API_KEY}\",\n",
        "        \"Content-Type\": \"application/json\"\n",
        "    }\n",
        "\n",
        "    data = {\n",
        "        \"model\": \"llama3-8b-8192\",\n",
        "        \"messages\": [\n",
        "            {\"role\": \"system\", \"content\": \"You are a helpful summarization assistant.\"},\n",
        "            {\"role\": \"user\", \"content\": prompt}\n",
        "        ],\n",
        "        \"temperature\": 0.3,\n",
        "        \"max_tokens\": 256\n",
        "    }\n",
        "\n",
        "    response = requests.post(\"https://api.groq.com/openai/v1/chat/completions\", headers=headers, json=data)\n",
        "\n",
        "    if response.status_code == 200:\n",
        "        return response.json()[\"choices\"][0][\"message\"][\"content\"].strip()\n",
        "    else:\n",
        "        return \"Summary generation failed.\""
      ],
      "metadata": {
        "id": "jLQTdwJ1NjRU"
      },
      "execution_count": 4,
      "outputs": []
    },
    {
      "cell_type": "markdown",
      "source": [
        "# Output"
      ],
      "metadata": {
        "id": "vXSxunFyRBQ1"
      }
    },
    {
      "cell_type": "code",
      "source": [
        "# Load spaCy model\n",
        "nlp = spacy.load(\"en_core_web_sm\")\n",
        "\n",
        "# Upload File\n",
        "uploaded = files.upload()\n",
        "file_path = list(uploaded.keys())[0]\n",
        "\n",
        "# Extract Text\n",
        "text = extract_text(file_path)\n",
        "\n",
        "# File Info\n",
        "file_name = os.path.basename(file_path)\n",
        "creation_time = time.ctime(os.path.getctime(file_path))\n",
        "\n",
        "# Generate Metadata\n",
        "summary = generate_summary_with_groq(text)\n",
        "spacy_data = extract_spacy_metadata(text)\n",
        "\n",
        "metadata = {\n",
        "    \"file_name\": file_name,\n",
        "    \"creation_date\": creation_time,\n",
        "    \"summary\": summary,\n",
        "    **spacy_data\n",
        "}\n",
        "\n",
        "output_json_path = file_name.rsplit(\".\", 1)[0] + \"_metadata.json\"\n",
        "\n",
        "with open(output_json_path, \"w\", encoding=\"utf-8\") as f:\n",
        "    json.dump(metadata, f, indent=2, ensure_ascii=False)\n",
        "\n",
        "# Display Metadata\n",
        "print(\"\\n\" + \"=\" * 80)\n",
        "print(\"📄 Document Metadata\")\n",
        "print(\"=\" * 80)\n",
        "print(json.dumps(metadata, indent=2))\n"
      ],
      "metadata": {
        "colab": {
          "base_uri": "https://localhost:8080/",
          "height": 802
        },
        "id": "PaVP7ReYxeMN",
        "outputId": "8d202891-8dab-4712-c365-f122367866fc"
      },
      "execution_count": 8,
      "outputs": [
        {
          "output_type": "display_data",
          "data": {
            "text/plain": [
              "<IPython.core.display.HTML object>"
            ],
            "text/html": [
              "\n",
              "     <input type=\"file\" id=\"files-e0d8cf46-d98b-4a8b-afe3-07a038cb83ee\" name=\"files[]\" multiple disabled\n",
              "        style=\"border:none\" />\n",
              "     <output id=\"result-e0d8cf46-d98b-4a8b-afe3-07a038cb83ee\">\n",
              "      Upload widget is only available when the cell has been executed in the\n",
              "      current browser session. Please rerun this cell to enable.\n",
              "      </output>\n",
              "      <script>// Copyright 2017 Google LLC\n",
              "//\n",
              "// Licensed under the Apache License, Version 2.0 (the \"License\");\n",
              "// you may not use this file except in compliance with the License.\n",
              "// You may obtain a copy of the License at\n",
              "//\n",
              "//      http://www.apache.org/licenses/LICENSE-2.0\n",
              "//\n",
              "// Unless required by applicable law or agreed to in writing, software\n",
              "// distributed under the License is distributed on an \"AS IS\" BASIS,\n",
              "// WITHOUT WARRANTIES OR CONDITIONS OF ANY KIND, either express or implied.\n",
              "// See the License for the specific language governing permissions and\n",
              "// limitations under the License.\n",
              "\n",
              "/**\n",
              " * @fileoverview Helpers for google.colab Python module.\n",
              " */\n",
              "(function(scope) {\n",
              "function span(text, styleAttributes = {}) {\n",
              "  const element = document.createElement('span');\n",
              "  element.textContent = text;\n",
              "  for (const key of Object.keys(styleAttributes)) {\n",
              "    element.style[key] = styleAttributes[key];\n",
              "  }\n",
              "  return element;\n",
              "}\n",
              "\n",
              "// Max number of bytes which will be uploaded at a time.\n",
              "const MAX_PAYLOAD_SIZE = 100 * 1024;\n",
              "\n",
              "function _uploadFiles(inputId, outputId) {\n",
              "  const steps = uploadFilesStep(inputId, outputId);\n",
              "  const outputElement = document.getElementById(outputId);\n",
              "  // Cache steps on the outputElement to make it available for the next call\n",
              "  // to uploadFilesContinue from Python.\n",
              "  outputElement.steps = steps;\n",
              "\n",
              "  return _uploadFilesContinue(outputId);\n",
              "}\n",
              "\n",
              "// This is roughly an async generator (not supported in the browser yet),\n",
              "// where there are multiple asynchronous steps and the Python side is going\n",
              "// to poll for completion of each step.\n",
              "// This uses a Promise to block the python side on completion of each step,\n",
              "// then passes the result of the previous step as the input to the next step.\n",
              "function _uploadFilesContinue(outputId) {\n",
              "  const outputElement = document.getElementById(outputId);\n",
              "  const steps = outputElement.steps;\n",
              "\n",
              "  const next = steps.next(outputElement.lastPromiseValue);\n",
              "  return Promise.resolve(next.value.promise).then((value) => {\n",
              "    // Cache the last promise value to make it available to the next\n",
              "    // step of the generator.\n",
              "    outputElement.lastPromiseValue = value;\n",
              "    return next.value.response;\n",
              "  });\n",
              "}\n",
              "\n",
              "/**\n",
              " * Generator function which is called between each async step of the upload\n",
              " * process.\n",
              " * @param {string} inputId Element ID of the input file picker element.\n",
              " * @param {string} outputId Element ID of the output display.\n",
              " * @return {!Iterable<!Object>} Iterable of next steps.\n",
              " */\n",
              "function* uploadFilesStep(inputId, outputId) {\n",
              "  const inputElement = document.getElementById(inputId);\n",
              "  inputElement.disabled = false;\n",
              "\n",
              "  const outputElement = document.getElementById(outputId);\n",
              "  outputElement.innerHTML = '';\n",
              "\n",
              "  const pickedPromise = new Promise((resolve) => {\n",
              "    inputElement.addEventListener('change', (e) => {\n",
              "      resolve(e.target.files);\n",
              "    });\n",
              "  });\n",
              "\n",
              "  const cancel = document.createElement('button');\n",
              "  inputElement.parentElement.appendChild(cancel);\n",
              "  cancel.textContent = 'Cancel upload';\n",
              "  const cancelPromise = new Promise((resolve) => {\n",
              "    cancel.onclick = () => {\n",
              "      resolve(null);\n",
              "    };\n",
              "  });\n",
              "\n",
              "  // Wait for the user to pick the files.\n",
              "  const files = yield {\n",
              "    promise: Promise.race([pickedPromise, cancelPromise]),\n",
              "    response: {\n",
              "      action: 'starting',\n",
              "    }\n",
              "  };\n",
              "\n",
              "  cancel.remove();\n",
              "\n",
              "  // Disable the input element since further picks are not allowed.\n",
              "  inputElement.disabled = true;\n",
              "\n",
              "  if (!files) {\n",
              "    return {\n",
              "      response: {\n",
              "        action: 'complete',\n",
              "      }\n",
              "    };\n",
              "  }\n",
              "\n",
              "  for (const file of files) {\n",
              "    const li = document.createElement('li');\n",
              "    li.append(span(file.name, {fontWeight: 'bold'}));\n",
              "    li.append(span(\n",
              "        `(${file.type || 'n/a'}) - ${file.size} bytes, ` +\n",
              "        `last modified: ${\n",
              "            file.lastModifiedDate ? file.lastModifiedDate.toLocaleDateString() :\n",
              "                                    'n/a'} - `));\n",
              "    const percent = span('0% done');\n",
              "    li.appendChild(percent);\n",
              "\n",
              "    outputElement.appendChild(li);\n",
              "\n",
              "    const fileDataPromise = new Promise((resolve) => {\n",
              "      const reader = new FileReader();\n",
              "      reader.onload = (e) => {\n",
              "        resolve(e.target.result);\n",
              "      };\n",
              "      reader.readAsArrayBuffer(file);\n",
              "    });\n",
              "    // Wait for the data to be ready.\n",
              "    let fileData = yield {\n",
              "      promise: fileDataPromise,\n",
              "      response: {\n",
              "        action: 'continue',\n",
              "      }\n",
              "    };\n",
              "\n",
              "    // Use a chunked sending to avoid message size limits. See b/62115660.\n",
              "    let position = 0;\n",
              "    do {\n",
              "      const length = Math.min(fileData.byteLength - position, MAX_PAYLOAD_SIZE);\n",
              "      const chunk = new Uint8Array(fileData, position, length);\n",
              "      position += length;\n",
              "\n",
              "      const base64 = btoa(String.fromCharCode.apply(null, chunk));\n",
              "      yield {\n",
              "        response: {\n",
              "          action: 'append',\n",
              "          file: file.name,\n",
              "          data: base64,\n",
              "        },\n",
              "      };\n",
              "\n",
              "      let percentDone = fileData.byteLength === 0 ?\n",
              "          100 :\n",
              "          Math.round((position / fileData.byteLength) * 100);\n",
              "      percent.textContent = `${percentDone}% done`;\n",
              "\n",
              "    } while (position < fileData.byteLength);\n",
              "  }\n",
              "\n",
              "  // All done.\n",
              "  yield {\n",
              "    response: {\n",
              "      action: 'complete',\n",
              "    }\n",
              "  };\n",
              "}\n",
              "\n",
              "scope.google = scope.google || {};\n",
              "scope.google.colab = scope.google.colab || {};\n",
              "scope.google.colab._files = {\n",
              "  _uploadFiles,\n",
              "  _uploadFilesContinue,\n",
              "};\n",
              "})(self);\n",
              "</script> "
            ]
          },
          "metadata": {}
        },
        {
          "output_type": "stream",
          "name": "stdout",
          "text": [
            "Saving Nipah Virus, pdf.pdf to Nipah Virus, pdf (2).pdf\n",
            "\n",
            "================================================================================\n",
            "📄 Document Metadata\n",
            "================================================================================\n",
            "{\n",
            "  \"file_name\": \"Nipah Virus, pdf (2).pdf\",\n",
            "  \"creation_date\": \"Tue Jun 24 18:37:53 2025\",\n",
            "  \"summary\": \"Here is a concise summary of the document in 4 lines:\\n\\nNipah virus is a bat-borne virus that causes high mortality rate (40-75%) in humans and animals. It is a biosafety level-4 pathogen and belongs to the genus Henipavirus. Fruit bats are the natural hosts of the virus, and transmission occurs through intermediate hosts such as horses. A vaccine, Oxford/AstraZeneca, has been developed to combat the virus.\",\n",
            "  \"keywords\": [\n",
            "    \"virus\",\n",
            "    \"nipah\",\n",
            "    \"dna\",\n",
            "    \"outbreak\",\n",
            "    \"shell\",\n",
            "    \"bat\",\n",
            "    \"infection\"\n",
            "  ],\n",
            "  \"people\": [\n",
            "    \"NiV\",\n",
            "    \"Transmission Reservoirs\\nGlobal\"\n",
            "  ],\n",
            "  \"organizations\": [\n",
            "    \"RNA\",\n",
            "    \"Oxford/AstraZeneca\",\n",
            "    \"\\u2022 Fruit\",\n",
            "    \"\\u2022 Virus\",\n",
            "    \"\\u2022 Spike\",\n",
            "    \"Nipah\",\n",
            "    \"\\u2022 Synthetic\",\n",
            "    \"\\u2022 Nipah\"\n",
            "  ],\n",
            "  \"dates\": [\n",
            "    \"2007\",\n",
            "    \"2023\",\n",
            "    \"2021\",\n",
            "    \"2018\",\n",
            "    \"2014\"\n",
            "  ]\n",
            "}\n"
          ]
        }
      ]
    },
    {
      "cell_type": "code",
      "source": [],
      "metadata": {
        "id": "J2S-MQELyM0Q"
      },
      "execution_count": null,
      "outputs": []
    }
  ]
}